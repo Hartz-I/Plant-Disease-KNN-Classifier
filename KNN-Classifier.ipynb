{
 "cells": [
  {
   "cell_type": "code",
   "execution_count": 300,
   "id": "e1570620-af7c-4e32-915b-1a1efc034ac7",
   "metadata": {},
   "outputs": [],
   "source": [
    "#Handle Data\n",
    "import pandas as pd\n",
    "import numpy as np\n",
    "\n",
    "#Handle Images\n",
    "from torchvision import datasets, transforms\n",
    "from torch.utils.data import DataLoader\n",
    "\n",
    "#counter\n",
    "from collections import Counter\n",
    "\n",
    "#show plots and images\n",
    "import matplotlib.pyplot as plt\n",
    "\n",
    "from sklearn.model_selection import train_test_split\n",
    "from sklearn.decomposition import PCA\n",
    "from sklearn.metrics import accuracy_score\n"
   ]
  },
  {
   "cell_type": "code",
   "execution_count": 346,
   "id": "394f98f8-6edb-4884-937c-2eb8b8c96d40",
   "metadata": {},
   "outputs": [],
   "source": [
    "transform = transforms.Compose([\n",
    "    transforms.Resize((128, 128)),          # Resize all images to 128x128\n",
    "    transforms.ToTensor(),                  # Convert images to PyTorch tensors\n",
    "    transforms.Normalize([0.5], [0.5])      # Normalize (adjust if 3-channel RGB)\n",
    "])"
   ]
  },
  {
   "cell_type": "code",
   "execution_count": 347,
   "id": "e00be15d-c0ce-4c65-93d4-a4abaa347a6a",
   "metadata": {},
   "outputs": [],
   "source": [
    "dataset = datasets.ImageFolder('train', transform=transform)\n",
    "\n",
    "# Split into DataLoader for batching\n",
    "dataloader = DataLoader(dataset, batch_size=1000, shuffle=True)"
   ]
  },
  {
   "cell_type": "code",
   "execution_count": 348,
   "id": "3566d011-b0b9-4d21-ad56-2f74f51fa8a8",
   "metadata": {},
   "outputs": [
    {
     "name": "stdout",
     "output_type": "stream",
     "text": [
      "torch.Size([1000, 3, 128, 128])\n",
      "tensor([ 4,  5,  1,  3,  3,  3,  4,  2,  1,  3,  4,  2,  2,  9, 10,  2,  2,  9,\n",
      "         8,  9,  1,  3,  4,  8,  4,  7,  8,  1,  8,  4,  9,  2,  9,  9,  2,  9,\n",
      "         8,  0,  8,  4,  3,  6,  1,  2,  7,  3,  0,  1,  5,  7,  2,  4,  5,  0,\n",
      "         2,  5,  9,  4,  2,  9,  3,  9,  2,  5,  5,  8,  0,  6,  8,  7,  5,  6,\n",
      "         6,  6,  1,  0,  4,  2,  9,  9,  8,  2,  2,  3,  0,  2,  9,  9, 10,  7,\n",
      "         6,  6,  2,  3,  4,  4,  6,  2,  3,  1,  0,  5,  2,  8,  6,  5,  4,  1,\n",
      "         5,  3,  1,  1,  4,  4,  6,  8,  3,  7,  6,  9,  5,  3,  3,  3,  7,  8,\n",
      "         0,  4,  2,  8, 10,  3,  4,  0,  3,  7,  9,  9,  9,  2,  3,  6,  7,  8,\n",
      "         8,  1,  8,  1,  1,  5,  4,  3,  0,  0,  2,  3, 10,  5,  5,  7,  0,  5,\n",
      "         0,  9,  3,  3,  9,  5,  3,  1,  0,  5,  0,  1,  6,  2,  4,  0,  4,  1,\n",
      "         1,  4,  9,  9,  2,  5,  7,  9,  2,  9,  0,  4,  9,  6,  9,  9,  8, 10,\n",
      "         7,  4,  4,  1,  8,  3,  1,  0,  6,  8,  5,  7,  8,  8,  4,  0,  1,  3,\n",
      "         6,  5,  6,  7,  3,  0,  5,  9,  0,  9,  0,  8,  7,  8,  2,  2,  2,  9,\n",
      "         2,  8,  4,  4,  5,  6,  1,  1,  0,  6,  3,  2,  2, 10,  7,  5,  7,  6,\n",
      "         6,  4,  4,  6,  6,  5,  4,  5, 10,  0,  9,  0,  9,  1,  7,  6, 10,  5,\n",
      "         8,  9,  5,  2,  1,  4,  5,  3,  0,  8,  3,  0,  4,  4,  4,  3,  1,  3,\n",
      "         3, 10,  0,  1,  4,  1,  0,  1,  5,  8,  1,  5,  2,  3,  2,  9,  6,  1,\n",
      "         2,  8,  4,  5,  9,  1,  0,  7,  4,  9,  6,  9, 10, 10,  3,  7,  7,  3,\n",
      "         6, 10, 10,  0,  0,  6,  2,  2,  6,  0, 10,  3,  9,  3,  8,  8,  3,  9,\n",
      "         8,  0,  9,  4,  0,  6,  8,  1,  2,  0,  2,  5,  0,  5,  8,  5,  2,  9,\n",
      "         2,  2,  1,  6,  0,  5,  9, 10,  1,  6,  7,  2,  6,  0,  0,  7,  8,  9,\n",
      "         0,  6,  5,  7,  4,  7,  5,  3,  4,  2,  4,  2,  7,  9, 10,  5,  2,  2,\n",
      "         2,  1,  4,  8,  1,  9,  9,  1,  7,  3,  7,  4,  6,  0,  2,  3,  8,  2,\n",
      "         2,  6,  0,  1,  1,  8,  8,  4, 10,  1,  0,  3,  2,  9,  5,  3,  7, 10,\n",
      "         5,  5,  2,  0,  6,  1,  4,  9,  8,  4,  3,  3,  0,  0,  5,  1,  5,  0,\n",
      "         0,  1,  9,  4,  9,  8,  0,  3,  2,  5,  6,  0,  2,  2,  1,  5,  0,  5,\n",
      "         2,  4, 10,  2,  8,  8,  3,  6,  9,  3,  9,  3, 10,  6,  9,  0,  3,  0,\n",
      "         0,  4,  3,  1,  3,  0,  3,  2,  4, 10,  4,  9,  1,  9, 10,  0,  5,  4,\n",
      "         0,  6,  9,  4,  6,  6,  1,  9, 10,  0,  0,  9,  0,  4,  8,  9,  8,  9,\n",
      "         2,  2,  8,  4,  1,  7,  2,  9,  9, 10,  5,  9,  9,  1,  2, 10,  7,  7,\n",
      "         1,  2,  7,  7,  7,  1,  7,  6,  9,  4,  5,  5,  3,  6, 10,  8,  0,  4,\n",
      "         2,  4,  2,  2,  1,  5,  2,  0,  9,  9,  4, 10,  0,  8,  1,  9,  5,  7,\n",
      "         2,  4,  1,  3,  4,  0,  6,  5, 10,  3,  6,  8,  3,  4,  9,  5,  1,  3,\n",
      "         8,  6,  0,  2,  5,  1,  0,  0,  4,  6,  6,  4,  7,  4,  1,  1,  8,  0,\n",
      "         4,  4,  0, 10,  3,  1,  6,  7,  2,  2,  0,  4,  1,  9,  9,  9,  4,  8,\n",
      "         4,  4,  9,  5,  9, 10,  8,  3,  4,  1,  6,  3,  4,  0,  6,  2,  6,  6,\n",
      "         9,  1,  5,  9,  1,  4,  5,  3,  2,  6,  8,  0,  5,  0,  2,  2,  0,  1,\n",
      "         2,  0, 10, 10,  2,  4,  9,  0,  5,  7,  3,  9, 10,  4,  2,  2,  9,  0,\n",
      "         9, 10,  5,  1,  7,  2,  8,  4,  3,  3,  2,  2,  3,  2,  8,  2,  8,  9,\n",
      "         0,  8,  4, 10,  0,  7,  1,  3,  7,  1,  7,  0,  7,  6,  6,  0,  2,  9,\n",
      "         8,  7,  3,  7,  5,  6,  0,  6,  5,  3,  0,  8,  7,  9,  0,  3,  9,  4,\n",
      "         2,  4,  9,  0,  0,  6,  4,  9,  4,  4,  4,  7,  2,  7,  2,  7,  5,  1,\n",
      "         9,  1, 10,  5,  3,  2,  4,  6,  5,  5,  8,  0,  3,  9,  8,  1,  4,  3,\n",
      "         8,  8,  5,  2,  4,  4,  6,  4,  4,  8,  2,  1,  2,  0,  6,  2,  6,  3,\n",
      "         1,  9,  2,  0,  4, 10,  8,  7,  4,  8,  5,  9,  2,  4,  3,  1,  7,  4,\n",
      "         0,  1,  9,  0,  9,  9,  9,  4,  2,  3,  0,  9,  8,  2,  3,  6, 10,  1,\n",
      "         4,  4,  1,  2,  3,  7, 10,  5,  6,  7,  6,  5,  2,  0,  2,  2,  6,  6,\n",
      "         1,  7,  2,  3,  6,  3,  0,  0,  1,  5,  1,  1,  4,  0,  6,  1,  1,  4,\n",
      "         3,  6,  8,  7,  4,  3,  9,  9,  4,  1,  3,  4,  1,  5,  0,  4,  2,  4,\n",
      "         4,  5,  9,  2,  2,  5,  4,  2,  8,  4,  8,  8,  2,  7,  9,  7,  0,  3,\n",
      "         8,  3,  6,  1,  3,  0,  6,  4,  8,  2,  7,  2,  8,  2,  8,  9,  9,  2,\n",
      "         9,  3,  5,  5,  0,  2,  8,  0,  8,  1,  0,  8,  5,  1,  7,  4, 10, 10,\n",
      "         4,  2,  9,  2,  0,  9,  7,  8,  7,  6,  4,  2,  9,  7,  7,  5,  1, 10,\n",
      "         8,  2,  6,  0,  1,  6,  1,  3,  1,  2,  8,  4,  7,  4,  9,  8,  3,  1,\n",
      "         4,  1,  5,  4,  1,  6,  4,  9,  1,  4,  3,  5,  7,  5,  3,  3,  2,  8,\n",
      "         0,  9,  4,  7,  7,  5,  9,  9,  9,  7])\n"
     ]
    }
   ],
   "source": [
    "# One batch of data\n",
    "images, labels = next(iter(dataloader))\n",
    "\n",
    "print(images.shape)  # (batch_size, channels, height, width)\n",
    "print(labels)        # 0 for healthy, 1 for infected (automatically labeled based on folder names)\n"
   ]
  },
  {
   "cell_type": "code",
   "execution_count": 349,
   "id": "eeeedfeb-107a-47db-983f-3ac86269003a",
   "metadata": {},
   "outputs": [
    {
     "name": "stdout",
     "output_type": "stream",
     "text": [
      "torch.Size([1000, 49152])\n",
      "torch.Size([1000])\n"
     ]
    }
   ],
   "source": [
    "flattened = images.view(images.size(0), -1)\n",
    "print(flattened.shape)  # (batch_size, 128*128*3) for RGB images\n",
    "print(labels.shape)"
   ]
  },
  {
   "cell_type": "code",
   "execution_count": 350,
   "id": "eb2b455b-4b3b-475b-a838-00a488a1f2ed",
   "metadata": {},
   "outputs": [
    {
     "data": {
      "text/plain": [
       "(1000, 17)"
      ]
     },
     "execution_count": 350,
     "metadata": {},
     "output_type": "execute_result"
    }
   ],
   "source": [
    "from sklearn.decomposition import PCA\n",
    "\n",
    "# Flatten images\n",
    "X_flat = flattened\n",
    "\n",
    "# Reduce dimensions (e.g., 50)\n",
    "pca = PCA(n_components=17, whiten = True)\n",
    "X_reduced = pca.fit_transform(X_flat)\n",
    "X_reduced.shape"
   ]
  },
  {
   "cell_type": "code",
   "execution_count": 351,
   "id": "edc53e64-60e1-45c9-84a5-13420e98e17e",
   "metadata": {},
   "outputs": [
    {
     "data": {
      "text/plain": [
       "array([[ 0.43623879,  2.10039317, -0.99784053, ..., -0.66264537,\n",
       "         1.66167612,  0.21972036],\n",
       "       [ 0.24372807, -1.00077355,  0.71397607, ...,  0.22526593,\n",
       "        -0.52581742, -0.22456132],\n",
       "       [ 0.58909021, -1.05038007, -0.85364413, ..., -0.3145926 ,\n",
       "         0.52254548, -0.22123797],\n",
       "       ...,\n",
       "       [-0.04807696, -0.43815069, -1.16074321, ..., -0.62964657,\n",
       "        -0.0753472 , -0.17375244],\n",
       "       [-0.1521742 ,  1.22870965,  0.76051026, ...,  0.60212489,\n",
       "         1.81488842,  1.32339071],\n",
       "       [-0.15753691, -0.76397259, -0.78540857, ..., -0.12687661,\n",
       "        -0.51449744, -0.12918221]])"
      ]
     },
     "execution_count": 351,
     "metadata": {},
     "output_type": "execute_result"
    }
   ],
   "source": [
    "X = np.array(X_reduced)\n",
    "y = np.array(labels)\n",
    "X"
   ]
  },
  {
   "cell_type": "code",
   "execution_count": 352,
   "id": "7149c16a-d560-4596-b85f-97a91270c32f",
   "metadata": {},
   "outputs": [
    {
     "data": {
      "text/plain": [
       "array([[ 0.43645708,  2.10144416, -0.99833982, ..., -0.66297694,\n",
       "         1.66250758,  0.2198303 ],\n",
       "       [ 0.24385002, -1.00127432,  0.71433333, ...,  0.22537865,\n",
       "        -0.52608053, -0.22467368],\n",
       "       [ 0.58938497, -1.05090566, -0.85407127, ..., -0.31475002,\n",
       "         0.52280695, -0.22134867],\n",
       "       ...,\n",
       "       [-0.04810102, -0.43836993, -1.16132401, ..., -0.62996163,\n",
       "        -0.0753849 , -0.17383939],\n",
       "       [-0.15225034,  1.22932447,  0.7608908 , ...,  0.60242617,\n",
       "         1.81579655,  1.3240529 ],\n",
       "       [-0.15761574, -0.76435486, -0.78580157, ..., -0.1269401 ,\n",
       "        -0.51475488, -0.12924685]])"
      ]
     },
     "execution_count": 352,
     "metadata": {},
     "output_type": "execute_result"
    }
   ],
   "source": [
    "def standardization(X):\n",
    "    X = (X - np.mean(X, axis=0)) / np.std(X, axis=0)\n",
    "\n",
    "    return X\n",
    "\n",
    "X = standardization(X)\n",
    "X"
   ]
  },
  {
   "cell_type": "code",
   "execution_count": 353,
   "id": "d9ce7d30-86eb-4df4-ae76-51d38fe88709",
   "metadata": {},
   "outputs": [
    {
     "data": {
      "text/plain": [
       "['Bacterial_spot',\n",
       " 'Early_blight',\n",
       " 'Late_blight',\n",
       " 'Leaf_Mold',\n",
       " 'Septoria_leaf_spot',\n",
       " 'Spider_mites Two-spotted_spider_mite',\n",
       " 'Target_Spot',\n",
       " 'Tomato_Yellow_Leaf_Curl_Virus',\n",
       " 'Tomato_mosaic_virus',\n",
       " 'healthy',\n",
       " 'powdery_mildew']"
      ]
     },
     "execution_count": 353,
     "metadata": {},
     "output_type": "execute_result"
    }
   ],
   "source": [
    "class_names = dataset.classes\n",
    "class_names"
   ]
  },
  {
   "cell_type": "code",
   "execution_count": 354,
   "id": "0c3c8043-501d-40de-ac57-1f7f7e2758d1",
   "metadata": {},
   "outputs": [],
   "source": [
    "def standardization(X):\n",
    "        X = (X - np.mean(X, axis=0)) / np.std(X, axis=0)\n",
    "    \n",
    "        return X\n",
    "\n",
    "class KNNClassifier:\n",
    "    def __init__(self, k = 3):\n",
    "        self.k = k\n",
    "\n",
    "    def fit(self, train_x, train_y):\n",
    "        self.train_x = standardization(np.array(train_x))\n",
    "        self.train_y = np.array(train_y)\n",
    "\n",
    "    def predict(self, test_x):\n",
    "        self.test_x = standardization(np.array(test_x))\n",
    "\n",
    "        predictions = []\n",
    "        for x in self.test_x:\n",
    "            dist = np.linalg.norm(self.train_x - np.array(x), axis = 1)\n",
    "            min_indices = dist.argsort()[:self.k]\n",
    "            min_ys = self.train_y[min_indices]\n",
    "            most_common = Counter(min_ys).most_common()[0][0]\n",
    "            predictions.append(most_common)\n",
    "        return predictions\n",
    "            "
   ]
  },
  {
   "cell_type": "code",
   "execution_count": 355,
   "id": "c2575aa2-ac97-4dfa-8b3a-fa4c72ff8be3",
   "metadata": {},
   "outputs": [
    {
     "data": {
      "text/plain": [
       "3"
      ]
     },
     "execution_count": 355,
     "metadata": {},
     "output_type": "execute_result"
    }
   ],
   "source": [
    "Counter([1,2,4,5,3,1,3,2,3]).most_common()[0][0]"
   ]
  },
  {
   "cell_type": "code",
   "execution_count": 356,
   "id": "000a5e2a-507a-40dc-9c4b-47daec23a6ae",
   "metadata": {},
   "outputs": [],
   "source": [
    "X_train, X_test = train_test_split(X, test_size=0.2, random_state=42)\n",
    "y_train, y_test = train_test_split(y, test_size=0.2, random_state=42)"
   ]
  },
  {
   "cell_type": "code",
   "execution_count": 357,
   "id": "7995474e-4d9d-4360-a6a9-a0537fa74468",
   "metadata": {},
   "outputs": [],
   "source": [
    "model = KNNClassifier(k=6)\n",
    "model.fit(X_train, y_train)\n",
    "result = model.predict(X_test)"
   ]
  },
  {
   "cell_type": "code",
   "execution_count": 358,
   "id": "c166fe30-f022-4167-a974-89fb466fa774",
   "metadata": {},
   "outputs": [
    {
     "data": {
      "text/plain": [
       "array([ 9,  4,  9,  5,  3, 10,  9,  0,  0,  9,  1,  4,  8,  1,  9,  3,  3,\n",
       "        5,  2, 10,  4,  6,  2,  7,  8,  8,  5,  3,  6,  2,  0,  2,  2,  9,\n",
       "        7,  7,  1, 10,  3,  9,  0,  6,  0,  5,  5,  3,  8,  0,  9,  7,  0,\n",
       "        4,  0,  1,  8,  9,  1,  4,  0,  0,  5,  2,  7,  7,  6,  3,  2,  8,\n",
       "        5,  7,  1,  2,  9,  0,  4, 10,  1,  4,  4,  8,  4,  0,  4,  6, 10,\n",
       "        9,  9,  7,  7,  0,  4,  1,  2,  6,  0,  6,  5, 10,  5, 10,  6,  0,\n",
       "        4,  6, 10,  6, 10,  6,  3,  2,  2,  2,  5,  9,  9,  5,  2,  4,  9,\n",
       "        0,  8,  3,  0, 10,  4,  4,  5,  0,  7,  4,  1,  3,  1,  5,  9,  5,\n",
       "        5,  3,  7,  6,  7, 10,  7,  0,  8,  8,  0,  3,  8,  7,  0,  5,  6,\n",
       "        3,  9,  2,  5,  2,  3,  9,  6,  0,  1,  5,  6, 10,  1,  2,  4,  9,\n",
       "        2,  3,  1,  8,  0,  6,  4,  5,  5,  9,  4,  2,  9,  1,  6,  9,  5,\n",
       "        5,  7,  7,  9,  4,  2,  4,  0,  6,  6,  5,  4,  9], dtype=int64)"
      ]
     },
     "execution_count": 358,
     "metadata": {},
     "output_type": "execute_result"
    }
   ],
   "source": [
    "y_test"
   ]
  },
  {
   "cell_type": "code",
   "execution_count": 359,
   "id": "0414ffe3-f80e-47bf-be5e-c6ade3bf07db",
   "metadata": {},
   "outputs": [
    {
     "data": {
      "text/plain": [
       "[9,\n",
       " 6,\n",
       " 10,\n",
       " 5,\n",
       " 3,\n",
       " 5,\n",
       " 9,\n",
       " 0,\n",
       " 0,\n",
       " 9,\n",
       " 3,\n",
       " 4,\n",
       " 0,\n",
       " 2,\n",
       " 9,\n",
       " 1,\n",
       " 4,\n",
       " 8,\n",
       " 2,\n",
       " 7,\n",
       " 7,\n",
       " 9,\n",
       " 9,\n",
       " 7,\n",
       " 4,\n",
       " 8,\n",
       " 0,\n",
       " 3,\n",
       " 8,\n",
       " 0,\n",
       " 0,\n",
       " 1,\n",
       " 2,\n",
       " 9,\n",
       " 0,\n",
       " 0,\n",
       " 6,\n",
       " 3,\n",
       " 3,\n",
       " 7,\n",
       " 0,\n",
       " 4,\n",
       " 2,\n",
       " 5,\n",
       " 5,\n",
       " 3,\n",
       " 8,\n",
       " 0,\n",
       " 8,\n",
       " 7,\n",
       " 9,\n",
       " 4,\n",
       " 0,\n",
       " 0,\n",
       " 8,\n",
       " 0,\n",
       " 9,\n",
       " 4,\n",
       " 9,\n",
       " 0,\n",
       " 6,\n",
       " 9,\n",
       " 7,\n",
       " 7,\n",
       " 8,\n",
       " 2,\n",
       " 2,\n",
       " 8,\n",
       " 9,\n",
       " 0,\n",
       " 0,\n",
       " 9,\n",
       " 9,\n",
       " 0,\n",
       " 6,\n",
       " 0,\n",
       " 0,\n",
       " 3,\n",
       " 0,\n",
       " 8,\n",
       " 7,\n",
       " 0,\n",
       " 4,\n",
       " 6,\n",
       " 4,\n",
       " 8,\n",
       " 3,\n",
       " 7,\n",
       " 7,\n",
       " 7,\n",
       " 4,\n",
       " 6,\n",
       " 3,\n",
       " 5,\n",
       " 2,\n",
       " 0,\n",
       " 5,\n",
       " 2,\n",
       " 5,\n",
       " 9,\n",
       " 6,\n",
       " 2,\n",
       " 4,\n",
       " 9,\n",
       " 9,\n",
       " 5,\n",
       " 3,\n",
       " 6,\n",
       " 3,\n",
       " 3,\n",
       " 2,\n",
       " 0,\n",
       " 0,\n",
       " 9,\n",
       " 2,\n",
       " 2,\n",
       " 0,\n",
       " 4,\n",
       " 9,\n",
       " 2,\n",
       " 3,\n",
       " 3,\n",
       " 6,\n",
       " 2,\n",
       " 4,\n",
       " 9,\n",
       " 5,\n",
       " 9,\n",
       " 1,\n",
       " 1,\n",
       " 8,\n",
       " 5,\n",
       " 4,\n",
       " 5,\n",
       " 10,\n",
       " 5,\n",
       " 6,\n",
       " 3,\n",
       " 7,\n",
       " 6,\n",
       " 7,\n",
       " 2,\n",
       " 7,\n",
       " 0,\n",
       " 7,\n",
       " 4,\n",
       " 0,\n",
       " 2,\n",
       " 2,\n",
       " 7,\n",
       " 2,\n",
       " 9,\n",
       " 5,\n",
       " 8,\n",
       " 1,\n",
       " 4,\n",
       " 5,\n",
       " 2,\n",
       " 8,\n",
       " 9,\n",
       " 5,\n",
       " 3,\n",
       " 1,\n",
       " 0,\n",
       " 0,\n",
       " 8,\n",
       " 1,\n",
       " 2,\n",
       " 2,\n",
       " 9,\n",
       " 2,\n",
       " 3,\n",
       " 0,\n",
       " 2,\n",
       " 2,\n",
       " 0,\n",
       " 2,\n",
       " 6,\n",
       " 5,\n",
       " 9,\n",
       " 4,\n",
       " 2,\n",
       " 9,\n",
       " 0,\n",
       " 6,\n",
       " 9,\n",
       " 5,\n",
       " 5,\n",
       " 7,\n",
       " 7,\n",
       " 9,\n",
       " 4,\n",
       " 0,\n",
       " 3,\n",
       " 0,\n",
       " 0,\n",
       " 9,\n",
       " 1,\n",
       " 2,\n",
       " 1]"
      ]
     },
     "execution_count": 359,
     "metadata": {},
     "output_type": "execute_result"
    }
   ],
   "source": [
    "result"
   ]
  },
  {
   "cell_type": "code",
   "execution_count": 360,
   "id": "f7145053-853e-4b95-9dd1-a476c7fa2753",
   "metadata": {},
   "outputs": [
    {
     "data": {
      "text/plain": [
       "0.44"
      ]
     },
     "execution_count": 360,
     "metadata": {},
     "output_type": "execute_result"
    }
   ],
   "source": [
    "p = 0\n",
    "for i in range(len(y_test)):\n",
    "    if y_test[i] == result[i]:\n",
    "        p = p + 1\n",
    "\n",
    "p/len(y_test)"
   ]
  },
  {
   "cell_type": "code",
   "execution_count": 361,
   "id": "bad8ee17-b6cc-4c86-ac07-6cb41b1b8901",
   "metadata": {},
   "outputs": [
    {
     "name": "stdout",
     "output_type": "stream",
     "text": [
      "k = 1, accuracy = 0.3950\n",
      "k = 2, accuracy = 0.3950\n",
      "k = 3, accuracy = 0.4400\n",
      "k = 4, accuracy = 0.4400\n",
      "k = 5, accuracy = 0.4400\n",
      "k = 6, accuracy = 0.4400\n",
      "k = 7, accuracy = 0.4700\n",
      "k = 8, accuracy = 0.4700\n",
      "k = 9, accuracy = 0.4650\n",
      "k = 10, accuracy = 0.4700\n",
      "k = 11, accuracy = 0.4900\n",
      "k = 12, accuracy = 0.4850\n",
      "k = 13, accuracy = 0.4850\n",
      "k = 14, accuracy = 0.4850\n",
      "k = 15, accuracy = 0.4800\n",
      "k = 16, accuracy = 0.4900\n",
      "k = 17, accuracy = 0.4650\n",
      "k = 18, accuracy = 0.4550\n",
      "k = 19, accuracy = 0.4650\n",
      "k = 20, accuracy = 0.4400\n",
      "k = 21, accuracy = 0.4250\n",
      "k = 22, accuracy = 0.4350\n",
      "k = 23, accuracy = 0.4350\n",
      "k = 24, accuracy = 0.4350\n",
      "k = 25, accuracy = 0.4350\n",
      "k = 26, accuracy = 0.4300\n",
      "k = 27, accuracy = 0.4100\n",
      "k = 28, accuracy = 0.4100\n",
      "k = 29, accuracy = 0.4050\n"
     ]
    }
   ],
   "source": [
    "for k in range(1, 30):\n",
    "    model = KNNClassifier(k=k)\n",
    "    model.fit(X_train, y_train)\n",
    "    y_pred = model.predict(X_test)\n",
    "    acc = accuracy_score(y_test, y_pred)\n",
    "    print(f\"k = {k}, accuracy = {acc:.4f}\")"
   ]
  },
  {
   "cell_type": "code",
   "execution_count": null,
   "id": "a4607aad-c2b9-4441-a238-0710f2ab6431",
   "metadata": {},
   "outputs": [],
   "source": []
  },
  {
   "cell_type": "code",
   "execution_count": null,
   "id": "9ac4a205-8d53-4723-964c-221d763b4f97",
   "metadata": {},
   "outputs": [],
   "source": []
  },
  {
   "cell_type": "code",
   "execution_count": null,
   "id": "87bcb2f8-78b0-448d-a5dc-b82ae6b73014",
   "metadata": {},
   "outputs": [],
   "source": []
  },
  {
   "cell_type": "code",
   "execution_count": null,
   "id": "38f42587-8ec0-41b5-aa8d-6312db943936",
   "metadata": {},
   "outputs": [],
   "source": []
  }
 ],
 "metadata": {
  "kernelspec": {
   "display_name": "Python 3 (ipykernel)",
   "language": "python",
   "name": "python3"
  },
  "language_info": {
   "codemirror_mode": {
    "name": "ipython",
    "version": 3
   },
   "file_extension": ".py",
   "mimetype": "text/x-python",
   "name": "python",
   "nbconvert_exporter": "python",
   "pygments_lexer": "ipython3",
   "version": "3.12.3"
  }
 },
 "nbformat": 4,
 "nbformat_minor": 5
}
